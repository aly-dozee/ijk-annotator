{
 "cells": [
  {
   "cell_type": "markdown",
   "metadata": {},
   "source": [
    "## Convert DOZ files to structured parquets to ease processing for the file reader"
   ]
  },
  {
   "cell_type": "code",
   "execution_count": 1,
   "metadata": {},
   "outputs": [],
   "source": [
    "from concurrent.futures import ThreadPoolExecutor\n",
    "from doz_file_utils import compose_doz, parse_doz\n",
    "from doz_file_utils.doz_dataclasses import ParsedDOZ\n",
    "import glob\n",
    "import numpy as np\n",
    "import os\n",
    "import pandas as pd\n",
    "import pyarrow as pa\n",
    "import pyarrow.parquet as pq\n",
    "from tqdm import tqdm\n",
    "\n",
    "from parse_data import _parse_single_file"
   ]
  },
  {
   "cell_type": "code",
   "execution_count": 2,
   "metadata": {},
   "outputs": [
    {
     "name": "stderr",
     "output_type": "stream",
     "text": [
      "Parsing DOZ files: 100%|██████████| 2756/2756 [00:02<00:00, 1215.76it/s]\n",
      "Parsing DOZ files: 100%|██████████| 1600/1600 [00:01<00:00, 1074.47it/s]\n",
      "Parsing DOZ files: 100%|██████████| 2178/2178 [00:01<00:00, 1093.94it/s]\n",
      "Parsing DOZ files: 100%|██████████| 1396/1396 [00:01<00:00, 1109.90it/s]\n",
      "Parsing DOZ files: 100%|██████████| 469/469 [00:00<00:00, 1567.97it/s]\n",
      "Parsing DOZ files: 100%|██████████| 1420/1420 [00:01<00:00, 1273.27it/s]\n",
      "Parsing DOZ files: 100%|██████████| 2183/2183 [00:00<00:00, 4486.10it/s] \n",
      "Parsing DOZ files: 100%|██████████| 2154/2154 [00:01<00:00, 1163.07it/s]\n",
      "Parsing DOZ files: 100%|██████████| 2201/2201 [00:01<00:00, 1169.05it/s]\n",
      "Parsing DOZ files: 100%|██████████| 2071/2071 [00:01<00:00, 1237.71it/s]\n",
      "Parsing DOZ files: 100%|██████████| 1987/1987 [00:00<00:00, 2443.25it/s] \n",
      "Parsing DOZ files: 100%|██████████| 1977/1977 [00:01<00:00, 1489.58it/s]\n",
      "Parsing DOZ files: 100%|██████████| 209/209 [00:00<00:00, 1249.31it/s]\n",
      "Parsing DOZ files: 100%|██████████| 761/761 [00:00<00:00, 1138.49it/s]\n",
      "Parsing DOZ files: 100%|██████████| 3319/3319 [00:00<00:00, 3504.65it/s] \n",
      "Parsing DOZ files: 100%|██████████| 2006/2006 [00:01<00:00, 1453.63it/s]\n"
     ]
    }
   ],
   "source": [
    "sub_res = {}\n",
    "for subject in glob.glob(\"../corr/train/raw/*\"):\n",
    "    all_paths = glob.glob(os.path.join(subject, \"**/*\"), recursive=True)\n",
    "    file_paths = [p for p in all_paths if os.path.isfile(p)]\n",
    "    results = []\n",
    "\n",
    "    with ThreadPoolExecutor() as executor:\n",
    "        futures = executor.map(_parse_single_file, file_paths)\n",
    "\n",
    "        for parsed in tqdm(futures, desc=\"Parsing DOZ files\", total=len(file_paths)):\n",
    "            if parsed is not None:\n",
    "                results.append(parsed)\n",
    "    \n",
    "    df = pd.DataFrame(results, columns=[\"ts\", \"gain\", \"signals\"])\n",
    "    table = pa.Table.from_pandas(df, preserve_index=False)\n",
    "    pq.write_table(table, f\"data/{subject.split('/')[4]}.parquet\")"
   ]
  }
 ],
 "metadata": {
  "kernelspec": {
   "display_name": "venv",
   "language": "python",
   "name": "python3"
  },
  "language_info": {
   "codemirror_mode": {
    "name": "ipython",
    "version": 3
   },
   "file_extension": ".py",
   "mimetype": "text/x-python",
   "name": "python",
   "nbconvert_exporter": "python",
   "pygments_lexer": "ipython3",
   "version": "3.10.12"
  }
 },
 "nbformat": 4,
 "nbformat_minor": 2
}
